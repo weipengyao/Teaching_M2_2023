{
 "cells": [
  {
   "cell_type": "code",
   "execution_count": 1,
   "id": "650b6ace-9a03-4899-86e4-99be4c758ff2",
   "metadata": {},
   "outputs": [],
   "source": [
    "%matplotlib qt"
   ]
  },
  {
   "cell_type": "code",
   "execution_count": 2,
   "id": "79f47d81-2f64-4211-9c18-23a5f60fb148",
   "metadata": {},
   "outputs": [],
   "source": [
    "import happi\n",
    "import matplotlib.pyplot as plt"
   ]
  },
  {
   "cell_type": "code",
   "execution_count": 11,
   "id": "de80bf50-f35b-4200-8090-ee9ad96fa4ec",
   "metadata": {},
   "outputs": [
    {
     "name": "stdout",
     "output_type": "stream",
     "text": [
      "Loaded simulation './project3_v0/'\n",
      "Scanning for Scalar diagnostics\n",
      "Scanning for Field diagnostics\n",
      "Scanning for Probe diagnostics\n",
      "Scanning for ParticleBinning diagnostics\n",
      "Scanning for RadiationSpectrum diagnostics\n",
      "Scanning for Performance diagnostics\n",
      "Scanning for Screen diagnostics\n",
      "Scanning for Tracked particle diagnostics\n",
      "Loaded simulation './project3_v1/'\n",
      "Scanning for Scalar diagnostics\n",
      "Scanning for Field diagnostics\n",
      "Scanning for Probe diagnostics\n",
      "Scanning for ParticleBinning diagnostics\n",
      "Scanning for RadiationSpectrum diagnostics\n",
      "Scanning for Performance diagnostics\n",
      "Scanning for Screen diagnostics\n",
      "Scanning for Tracked particle diagnostics\n",
      "Loaded simulation './project3_0.4/'\n",
      "Scanning for Scalar diagnostics\n",
      "Scanning for Field diagnostics\n",
      "Scanning for Probe diagnostics\n",
      "Scanning for ParticleBinning diagnostics\n",
      "Scanning for RadiationSpectrum diagnostics\n",
      "Scanning for Performance diagnostics\n",
      "Scanning for Screen diagnostics\n",
      "Scanning for Tracked particle diagnostics\n"
     ]
    }
   ],
   "source": [
    "S0 = happi.Open('./project3_v0/')\n",
    "S1 = happi.Open('./project3_v1/')\n",
    "S2 = happi.Open('./project3_0.4/')"
   ]
  },
  {
   "cell_type": "code",
   "execution_count": 12,
   "id": "a841f422-f5cb-49ac-afa0-65c5f0834e92",
   "metadata": {},
   "outputs": [
    {
     "name": "stdout",
     "output_type": "stream",
     "text": [
      "Field diagnostic #0: Ex\n"
     ]
    },
    {
     "name": "stderr",
     "output_type": "stream",
     "text": [
      "2023-10-01 22:18:30.529 Python[20270:6110097] +[CATransaction synchronize] called within transaction\n"
     ]
    }
   ],
   "source": [
    "S2.Field(0,'Ex',cmap='smileiD',vsym=True).streak()"
   ]
  },
  {
   "cell_type": "code",
   "execution_count": 15,
   "id": "75841fd3-ea73-4b29-8d2d-ec7145c290e7",
   "metadata": {},
   "outputs": [
    {
     "name": "stdout",
     "output_type": "stream",
     "text": [
      "Field diagnostic #0: Rho_electron\n"
     ]
    }
   ],
   "source": [
    "S2.Field(0,'Rho_electron').streak()"
   ]
  },
  {
   "cell_type": "code",
   "execution_count": 16,
   "id": "bd176723-dade-4f04-9099-e13932b9c27f",
   "metadata": {},
   "outputs": [
    {
     "name": "stdout",
     "output_type": "stream",
     "text": [
      "Scalar Uelm_Ex\n"
     ]
    },
    {
     "name": "stderr",
     "output_type": "stream",
     "text": [
      "2023-10-01 22:19:08.769 Python[20270:6110097] +[CATransaction synchronize] called within transaction\n"
     ]
    }
   ],
   "source": [
    "S2.Scalar('Uelm_Ex').plot()"
   ]
  },
  {
   "cell_type": "code",
   "execution_count": 22,
   "id": "69269365-89bf-407d-b8a2-7fe11502f7dc",
   "metadata": {},
   "outputs": [],
   "source": [
    "v2 = S2.ParticleBinning(0,label='klde = 0.4',color='red')\n",
    "v1 = S1.ParticleBinning(0,label='klde = 0.1',color='blue')\n",
    "\n",
    "happi.multiPlot(v1,v2,\n",
    "               skipAnimation=True)"
   ]
  },
  {
   "cell_type": "code",
   "execution_count": 28,
   "id": "3c9c2b3a-a747-479b-b618-46b53482b2c9",
   "metadata": {},
   "outputs": [],
   "source": [
    "xvx2 = S2.ParticleBinning(1)\n",
    "xvx1 = S1.ParticleBinning(1)\n",
    "\n",
    "happi.multiPlot(xvx1,xvx2,\n",
    "                shape=[2,1],\n",
    "               skipAnimation=True)"
   ]
  },
  {
   "cell_type": "code",
   "execution_count": null,
   "id": "15726478-d673-4cad-b013-2882a61fdab3",
   "metadata": {},
   "outputs": [],
   "source": []
  }
 ],
 "metadata": {
  "kernelspec": {
   "display_name": "Python 3 (ipykernel)",
   "language": "python",
   "name": "python3"
  },
  "language_info": {
   "codemirror_mode": {
    "name": "ipython",
    "version": 3
   },
   "file_extension": ".py",
   "mimetype": "text/x-python",
   "name": "python",
   "nbconvert_exporter": "python",
   "pygments_lexer": "ipython3",
   "version": "3.9.18"
  }
 },
 "nbformat": 4,
 "nbformat_minor": 5
}
