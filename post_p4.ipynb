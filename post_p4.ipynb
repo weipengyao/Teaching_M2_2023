{
 "cells": [
  {
   "cell_type": "code",
   "execution_count": 1,
   "id": "5c610c45-5937-42d9-9ffe-b7b67d640f73",
   "metadata": {},
   "outputs": [],
   "source": [
    "%matplotlib qt"
   ]
  },
  {
   "cell_type": "code",
   "execution_count": 2,
   "id": "03e8a50d-55c7-43c8-a153-9f72dc487ca8",
   "metadata": {},
   "outputs": [],
   "source": [
    "import happi\n",
    "import matplotlib.pyplot as plt"
   ]
  },
  {
   "cell_type": "code",
   "execution_count": 3,
   "id": "a2062db9-778d-489f-82af-7c5f823c8dd5",
   "metadata": {},
   "outputs": [
    {
     "name": "stdout",
     "output_type": "stream",
     "text": [
      "nb/n0 * (v0/vthb)**2 =  80.00000000000001  >  0.0\n",
      "Loaded simulation './project4/'\n",
      "Scanning for Scalar diagnostics\n",
      "Scanning for Field diagnostics\n",
      "Scanning for Probe diagnostics\n",
      "Scanning for ParticleBinning diagnostics\n",
      "Scanning for RadiationSpectrum diagnostics\n",
      "Scanning for Performance diagnostics\n",
      "Scanning for Screen diagnostics\n",
      "Scanning for Tracked particle diagnostics\n"
     ]
    }
   ],
   "source": [
    "S0 = happi.Open('./project4/')"
   ]
  },
  {
   "cell_type": "code",
   "execution_count": 4,
   "id": "f59fae65-2987-4866-9754-580803b6fde1",
   "metadata": {},
   "outputs": [
    {
     "name": "stdout",
     "output_type": "stream",
     "text": [
      "Field diagnostic #0: Ex\n"
     ]
    }
   ],
   "source": [
    "S0.Field(0,'Ex',cmap='smileiD',vsym=0.015).streak()"
   ]
  },
  {
   "cell_type": "code",
   "execution_count": 5,
   "id": "77fb4c39-2254-4a3b-8b5e-d6cd74e523ce",
   "metadata": {},
   "outputs": [
    {
     "name": "stdout",
     "output_type": "stream",
     "text": [
      "Field diagnostic #0: Rho_plasma\n"
     ]
    }
   ],
   "source": [
    "S0.Field(0,'Rho_plasma',cmap='smilei').streak()"
   ]
  },
  {
   "cell_type": "code",
   "execution_count": 6,
   "id": "297e8581-2662-4cc9-9e3a-39798304d769",
   "metadata": {},
   "outputs": [
    {
     "name": "stdout",
     "output_type": "stream",
     "text": [
      "Field diagnostic #0: Rho_beam\n"
     ]
    }
   ],
   "source": [
    "S0.Field(0,'Rho_beam',cmap='smilei').streak()"
   ]
  },
  {
   "cell_type": "code",
   "execution_count": 7,
   "id": "15fe1c6d-c3c6-4fc5-a716-a7abb651a8f7",
   "metadata": {},
   "outputs": [
    {
     "name": "stdout",
     "output_type": "stream",
     "text": [
      "\n",
      "#0 - Number density of species # 0,1\n",
      "    px from -0.1 to 0.9 in 200 steps \n",
      "\n",
      "The value in each bin is the sum of the `deposited_quantity` divided by the bin size and by grid_length[0]\n",
      "\n"
     ]
    }
   ],
   "source": [
    "S0.ParticleBinning(0).plot(0)"
   ]
  },
  {
   "cell_type": "code",
   "execution_count": 8,
   "id": "2ecf58f4-cc5f-4ed2-8810-af4f00bcdc25",
   "metadata": {},
   "outputs": [],
   "source": [
    "Ex = S0.Scalar('Uelm_Ex',label='Ex',data_log=True)\n",
    "EM = S0.Scalar('Uelm',   label='EM',data_log=True)\n",
    "UK = S0.Scalar('Ukin',   label='UK',data_log=True)\n",
    "UT = S0.Scalar('Utot',   label='UT',data_log=True)"
   ]
  },
  {
   "cell_type": "code",
   "execution_count": 9,
   "id": "76250c6c-56c8-499f-a195-b8b8bd6a7d79",
   "metadata": {},
   "outputs": [
    {
     "name": "stderr",
     "output_type": "stream",
     "text": [
      "/Users/yao/Desktop/CODE/Smilei/happi/_Diagnostics/Diagnostic.py:868: RuntimeWarning: divide by zero encountered in log10\n",
      "  return self._np.log10( self._dataLinAtTime(t) )\n"
     ]
    }
   ],
   "source": [
    "happi.multiPlot(Ex, EM, UK, UT)"
   ]
  },
  {
   "cell_type": "code",
   "execution_count": null,
   "id": "0baffbfe-1b28-4c57-bc3f-06d7d036666c",
   "metadata": {},
   "outputs": [],
   "source": []
  }
 ],
 "metadata": {
  "kernelspec": {
   "display_name": "Python 3 (ipykernel)",
   "language": "python",
   "name": "python3"
  },
  "language_info": {
   "codemirror_mode": {
    "name": "ipython",
    "version": 3
   },
   "file_extension": ".py",
   "mimetype": "text/x-python",
   "name": "python",
   "nbconvert_exporter": "python",
   "pygments_lexer": "ipython3",
   "version": "3.9.18"
  }
 },
 "nbformat": 4,
 "nbformat_minor": 5
}
